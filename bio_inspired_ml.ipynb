{
  "nbformat": 4,
  "nbformat_minor": 0,
  "metadata": {
    "colab": {
      "provenance": []
    },
    "kernelspec": {
      "name": "python3",
      "display_name": "Python 3"
    },
    "language_info": {
      "name": "python"
    }
  },
  "cells": [
    {
      "cell_type": "code",
      "execution_count": 24,
      "metadata": {
        "colab": {
          "base_uri": "https://localhost:8080/"
        },
        "id": "ev-zgPmxJcjx",
        "outputId": "2af1616c-96bc-4710-99c3-56736bbab483"
      },
      "outputs": [
        {
          "output_type": "stream",
          "name": "stdout",
          "text": [
            "Looking in indexes: https://pypi.org/simple, https://us-python.pkg.dev/colab-wheels/public/simple/\n",
            "Requirement already satisfied: sklearn in /usr/local/lib/python3.10/dist-packages (0.0.post4)\n"
          ]
        }
      ],
      "source": [
        "!pip install gosdt\n",
        "#!pip3 install attrs packaging editables pandas sklearn sortedcontainers gmpy2 matplotlib\n",
        "#!pip3 install auto-sklearn\n",
        "#!pip install tpot\n",
        "!pip install gplearn\n",
        "#!pip install autogluon\n",
        "#!pip install sklearn"
      ]
    },
    {
      "cell_type": "code",
      "source": [
        "import os\n",
        "import pandas as pd\n",
        "from sklearn.model_selection import train_test_split\n",
        "from sklearn.metrics import mean_absolute_error,mean_squared_error,r2_score\n",
        "from sklearn.linear_model import LinearRegression\n",
        "import gosdt\n",
        "#import autosklearn.regression\n",
        "#from tpot import TPOTRegressor\n",
        "from gplearn.genetic import SymbolicRegressor\n",
        "#from autogluon.tabular import TabularDataset, TabularPredictor"
      ],
      "metadata": {
        "id": "pyVsG6diMCGf"
      },
      "execution_count": 49,
      "outputs": []
    },
    {
      "cell_type": "code",
      "source": [
        "META_DATASET_FIT = \"meta_dataset_fit.csv\"\n",
        "META_DATASET_TRAIN = \"meta_dataset_train.csv\"\n",
        "META_DATASET_TEST = \"meta_dataset_test.csv\"\n",
        "RESULTS_FOLDER_NAME = \"results\"\n",
        "DATA_FOLDER_NAME = \"data\"\n",
        "current_folder = globals()['_dh'][0]\n",
        "RESULTS_FOLDER_PATH = os.path.join(current_folder, RESULTS_FOLDER_NAME)\n",
        "DATA_FOLDER_PATH = os.path.join(current_folder, DATA_FOLDER_NAME)\n",
        "CONFIG_FILE_PATH = os.path.join(current_folder, DATA_FOLDER_NAME, \"config.csv\")\n",
        "RANDOM_STATE = 73  # Shaldon number is fund"
      ],
      "metadata": {
        "id": "BrpVGisSJ8Vg"
      },
      "execution_count": 50,
      "outputs": []
    },
    {
      "cell_type": "code",
      "source": [
        "def metric(y_pred, y):\n",
        "    metricList = []\n",
        "    metricList.append(mean_absolute_error(y_true=y,y_pred=y_pred))\n",
        "    metricList.append(mean_squared_error(y_true=y,y_pred=y_pred))\n",
        "    metricList.append(r2_score(y_true=y,y_pred=y_pred))\n",
        "\n",
        "    return metricList"
      ],
      "metadata": {
        "id": "LLcEeJ7RKEKx"
      },
      "execution_count": 51,
      "outputs": []
    },
    {
      "cell_type": "code",
      "source": [
        "from google.colab import files\n",
        "files.upload()\n"
      ],
      "metadata": {
        "colab": {
          "base_uri": "https://localhost:8080/",
          "height": 73
        },
        "id": "prHgZ1Y3KfOD",
        "outputId": "a3c834c8-581c-4f9c-d252-f4ad74ac9191"
      },
      "execution_count": 36,
      "outputs": [
        {
          "output_type": "display_data",
          "data": {
            "text/plain": [
              "<IPython.core.display.HTML object>"
            ],
            "text/html": [
              "\n",
              "     <input type=\"file\" id=\"files-329de3bd-7aff-462f-9070-ab0825088689\" name=\"files[]\" multiple disabled\n",
              "        style=\"border:none\" />\n",
              "     <output id=\"result-329de3bd-7aff-462f-9070-ab0825088689\">\n",
              "      Upload widget is only available when the cell has been executed in the\n",
              "      current browser session. Please rerun this cell to enable.\n",
              "      </output>\n",
              "      <script>// Copyright 2017 Google LLC\n",
              "//\n",
              "// Licensed under the Apache License, Version 2.0 (the \"License\");\n",
              "// you may not use this file except in compliance with the License.\n",
              "// You may obtain a copy of the License at\n",
              "//\n",
              "//      http://www.apache.org/licenses/LICENSE-2.0\n",
              "//\n",
              "// Unless required by applicable law or agreed to in writing, software\n",
              "// distributed under the License is distributed on an \"AS IS\" BASIS,\n",
              "// WITHOUT WARRANTIES OR CONDITIONS OF ANY KIND, either express or implied.\n",
              "// See the License for the specific language governing permissions and\n",
              "// limitations under the License.\n",
              "\n",
              "/**\n",
              " * @fileoverview Helpers for google.colab Python module.\n",
              " */\n",
              "(function(scope) {\n",
              "function span(text, styleAttributes = {}) {\n",
              "  const element = document.createElement('span');\n",
              "  element.textContent = text;\n",
              "  for (const key of Object.keys(styleAttributes)) {\n",
              "    element.style[key] = styleAttributes[key];\n",
              "  }\n",
              "  return element;\n",
              "}\n",
              "\n",
              "// Max number of bytes which will be uploaded at a time.\n",
              "const MAX_PAYLOAD_SIZE = 100 * 1024;\n",
              "\n",
              "function _uploadFiles(inputId, outputId) {\n",
              "  const steps = uploadFilesStep(inputId, outputId);\n",
              "  const outputElement = document.getElementById(outputId);\n",
              "  // Cache steps on the outputElement to make it available for the next call\n",
              "  // to uploadFilesContinue from Python.\n",
              "  outputElement.steps = steps;\n",
              "\n",
              "  return _uploadFilesContinue(outputId);\n",
              "}\n",
              "\n",
              "// This is roughly an async generator (not supported in the browser yet),\n",
              "// where there are multiple asynchronous steps and the Python side is going\n",
              "// to poll for completion of each step.\n",
              "// This uses a Promise to block the python side on completion of each step,\n",
              "// then passes the result of the previous step as the input to the next step.\n",
              "function _uploadFilesContinue(outputId) {\n",
              "  const outputElement = document.getElementById(outputId);\n",
              "  const steps = outputElement.steps;\n",
              "\n",
              "  const next = steps.next(outputElement.lastPromiseValue);\n",
              "  return Promise.resolve(next.value.promise).then((value) => {\n",
              "    // Cache the last promise value to make it available to the next\n",
              "    // step of the generator.\n",
              "    outputElement.lastPromiseValue = value;\n",
              "    return next.value.response;\n",
              "  });\n",
              "}\n",
              "\n",
              "/**\n",
              " * Generator function which is called between each async step of the upload\n",
              " * process.\n",
              " * @param {string} inputId Element ID of the input file picker element.\n",
              " * @param {string} outputId Element ID of the output display.\n",
              " * @return {!Iterable<!Object>} Iterable of next steps.\n",
              " */\n",
              "function* uploadFilesStep(inputId, outputId) {\n",
              "  const inputElement = document.getElementById(inputId);\n",
              "  inputElement.disabled = false;\n",
              "\n",
              "  const outputElement = document.getElementById(outputId);\n",
              "  outputElement.innerHTML = '';\n",
              "\n",
              "  const pickedPromise = new Promise((resolve) => {\n",
              "    inputElement.addEventListener('change', (e) => {\n",
              "      resolve(e.target.files);\n",
              "    });\n",
              "  });\n",
              "\n",
              "  const cancel = document.createElement('button');\n",
              "  inputElement.parentElement.appendChild(cancel);\n",
              "  cancel.textContent = 'Cancel upload';\n",
              "  const cancelPromise = new Promise((resolve) => {\n",
              "    cancel.onclick = () => {\n",
              "      resolve(null);\n",
              "    };\n",
              "  });\n",
              "\n",
              "  // Wait for the user to pick the files.\n",
              "  const files = yield {\n",
              "    promise: Promise.race([pickedPromise, cancelPromise]),\n",
              "    response: {\n",
              "      action: 'starting',\n",
              "    }\n",
              "  };\n",
              "\n",
              "  cancel.remove();\n",
              "\n",
              "  // Disable the input element since further picks are not allowed.\n",
              "  inputElement.disabled = true;\n",
              "\n",
              "  if (!files) {\n",
              "    return {\n",
              "      response: {\n",
              "        action: 'complete',\n",
              "      }\n",
              "    };\n",
              "  }\n",
              "\n",
              "  for (const file of files) {\n",
              "    const li = document.createElement('li');\n",
              "    li.append(span(file.name, {fontWeight: 'bold'}));\n",
              "    li.append(span(\n",
              "        `(${file.type || 'n/a'}) - ${file.size} bytes, ` +\n",
              "        `last modified: ${\n",
              "            file.lastModifiedDate ? file.lastModifiedDate.toLocaleDateString() :\n",
              "                                    'n/a'} - `));\n",
              "    const percent = span('0% done');\n",
              "    li.appendChild(percent);\n",
              "\n",
              "    outputElement.appendChild(li);\n",
              "\n",
              "    const fileDataPromise = new Promise((resolve) => {\n",
              "      const reader = new FileReader();\n",
              "      reader.onload = (e) => {\n",
              "        resolve(e.target.result);\n",
              "      };\n",
              "      reader.readAsArrayBuffer(file);\n",
              "    });\n",
              "    // Wait for the data to be ready.\n",
              "    let fileData = yield {\n",
              "      promise: fileDataPromise,\n",
              "      response: {\n",
              "        action: 'continue',\n",
              "      }\n",
              "    };\n",
              "\n",
              "    // Use a chunked sending to avoid message size limits. See b/62115660.\n",
              "    let position = 0;\n",
              "    do {\n",
              "      const length = Math.min(fileData.byteLength - position, MAX_PAYLOAD_SIZE);\n",
              "      const chunk = new Uint8Array(fileData, position, length);\n",
              "      position += length;\n",
              "\n",
              "      const base64 = btoa(String.fromCharCode.apply(null, chunk));\n",
              "      yield {\n",
              "        response: {\n",
              "          action: 'append',\n",
              "          file: file.name,\n",
              "          data: base64,\n",
              "        },\n",
              "      };\n",
              "\n",
              "      let percentDone = fileData.byteLength === 0 ?\n",
              "          100 :\n",
              "          Math.round((position / fileData.byteLength) * 100);\n",
              "      percent.textContent = `${percentDone}% done`;\n",
              "\n",
              "    } while (position < fileData.byteLength);\n",
              "  }\n",
              "\n",
              "  // All done.\n",
              "  yield {\n",
              "    response: {\n",
              "      action: 'complete',\n",
              "    }\n",
              "  };\n",
              "}\n",
              "\n",
              "scope.google = scope.google || {};\n",
              "scope.google.colab = scope.google.colab || {};\n",
              "scope.google.colab._files = {\n",
              "  _uploadFiles,\n",
              "  _uploadFilesContinue,\n",
              "};\n",
              "})(self);\n",
              "</script> "
            ]
          },
          "metadata": {}
        },
        {
          "output_type": "stream",
          "name": "stdout",
          "text": [
            "Saving data.zip to data.zip\n"
          ]
        }
      ]
    },
    {
      "cell_type": "code",
      "source": [
        "!unzip data.zip"
      ],
      "metadata": {
        "colab": {
          "base_uri": "https://localhost:8080/"
        },
        "id": "c_kzkE-KV-Kh",
        "outputId": "32daa528-f186-4663-be03-3baa8c8b9f1f"
      },
      "execution_count": 39,
      "outputs": [
        {
          "output_type": "stream",
          "name": "stdout",
          "text": [
            "unzip:  cannot find or open data/data.zip, data/data.zip.zip or data/data.zip.ZIP.\n"
          ]
        }
      ]
    },
    {
      "cell_type": "code",
      "source": [
        "create_paths = [os.path.join(current_folder, RESULTS_FOLDER_PATH),\n",
        "                        os.path.join(current_folder, DATA_FOLDER_PATH)]\n",
        "for path in create_paths:\n",
        "  try:\n",
        "    os.mkdir(path)\n",
        "  except Exception as error:\n",
        "    pass"
      ],
      "metadata": {
        "id": "psCL2pRzKG1q"
      },
      "execution_count": 42,
      "outputs": []
    },
    {
      "cell_type": "code",
      "source": [
        "columns = [\"LR\",\"GPlearn\"]"
      ],
      "metadata": {
        "id": "3BVA4NNfKYaA"
      },
      "execution_count": 52,
      "outputs": []
    },
    {
      "cell_type": "code",
      "source": [
        "index = []\n",
        "fit_performance = []\n",
        "train_performance = []\n",
        "test_performance = []\n",
        "\n",
        "config_df = {row[\"file_name\"]: {\"is_time_series\": int(row[\"is_time_series\"]),\n",
        "                                        \"window\": int(row[\"window\"]),\n",
        "                                        \"y_target_col\": row[\"y_target_col\"]}\n",
        "                     for row_index, row in pd.read_csv(CONFIG_FILE_PATH).iterrows()}"
      ],
      "metadata": {
        "id": "8Pq1hrQGKavL"
      },
      "execution_count": 53,
      "outputs": []
    },
    {
      "cell_type": "code",
      "source": [
        "def _to_time_series(data: pd.DataFrame,\n",
        "                    n_in: int,\n",
        "                    n_out: int = 1,\n",
        "                    dropnan: bool = True):\n",
        "    \"\"\"\n",
        "    Frame a time series as a supervised learning dataset.\n",
        "    Arguments:\n",
        "    data: Sequence of observations as a list or NumPy array.\n",
        "    n_in: Number of lag observations as input (X).\n",
        "    n_out: Number of observations as output (y).\n",
        "    dropnan: Boolean whether or not to drop rows with NaN values.\n",
        "    Returns:\n",
        "    Pandas DataFrame of series framed for supervised learning.\n",
        "    \"\"\"\n",
        "    n_vars = 1 if type(data) is list else data.shape[1]\n",
        "    if not isinstance(data, pd.DataFrame):\n",
        "        df = pd.DataFrame(data)\n",
        "    else:\n",
        "        df = data\n",
        "    cols = []\n",
        "    names = []\n",
        "    # input sequence (t-n, ... t-1)\n",
        "    for i in range(n_in, 0, -1):\n",
        "        cols.append(df.shift(i))\n",
        "        names += [('var%d(t-%d)' % (j + 1, i)) for j in range(n_vars)]\n",
        "    # forecast sequence (t, t+1, ... t+n)\n",
        "    for i in range(0, n_out):\n",
        "        cols.append(df.shift(-i))\n",
        "        if i == 0:\n",
        "            names += [('var%d(t)' % (j + 1)) for j in range(n_vars)]\n",
        "        else:\n",
        "            names += [('var%d(t+%d)' % (j + 1, i)) for j in range(n_vars)]\n",
        "    # put it all together\n",
        "    agg = pd.concat(cols,\n",
        "                    axis=1)\n",
        "    agg.columns = names\n",
        "    # drop rows with NaN values\n",
        "    if dropnan:\n",
        "        agg.dropna(inplace=True)\n",
        "    return agg"
      ],
      "metadata": {
        "id": "AajYyC2pXZWV"
      },
      "execution_count": 54,
      "outputs": []
    },
    {
      "cell_type": "code",
      "source": [
        "for data_path in config_df: #glob(os.path.join(DATA_FOLDER_PATH, \"*.csv\")):\n",
        "\n",
        "  # if we have this dataset, just skip it\n",
        "  root_path = \"data/\"\n",
        "  file_ext = \".csv\"\n",
        "  file_path = root_path + data_path + file_ext\n",
        "  file_name = os.path.basename(data_path.split(\".csv\")[0])\n",
        "  print(file_name)\n",
        "  if file_name in index:\n",
        "      continue\n",
        "\n",
        "  # load dataset\n",
        "  df = pd.read_csv(file_path, thousands=\",\")\n",
        "  # check if we need to make from time_series\n",
        "  if config_df[file_name][\"is_time_series\"]:\n",
        "      answer = []\n",
        "      for row, row_index in df.iterrows():\n",
        "          ts_row = _to_time_series(list(row_index), 4)\n",
        "          answer.append(ts_row)\n",
        "      df = pd.concat(answer)\n",
        "      #df = Main._to_time_series(data=df, n_in=config_df[file_name][\"window\"])\n",
        "\n",
        "  # make sure everything in the dataset is legit\n",
        "  df.dropna(inplace=True)\n",
        "  for col in list(df):\n",
        "      df[col] = pd.to_numeric(df[col], errors='coerce')\n",
        "  df.reset_index(inplace=True, drop=True)\n",
        "\n",
        "  # prepare where to save results\n",
        "  row_fit = []\n",
        "  row_train = []\n",
        "  row_test = []\n",
        "\n",
        "  # put the target column in the start\n",
        "  #y = df[config_df[file_name][\"y_target_col\"]]\n",
        "  df.insert(0,\n",
        "            config_df[file_name][\"y_target_col\"],\n",
        "            df.pop(config_df[file_name][\"y_target_col\"]))\n",
        "  #x = df.drop(config_df[file_name][\"y_target_col\"])\n",
        "  # split to x and y\n",
        "  x = df.iloc[:, 0:]\n",
        "  #copy_x = x.copy()\n",
        "  y = df.iloc[:, 0]\n",
        "  #copy_y = y.copy()\n",
        "\n",
        "  # split to train and test for later\n",
        "  x_train, x_test, y_train, y_test = train_test_split(x,\n",
        "                                                      y,\n",
        "                                                      test_size=0.2,\n",
        "                                                      random_state=RANDOM_STATE)\n",
        "  # train models #\n",
        "  # TODO: david - add logic for all the models here\n",
        "  for model in [LinearRegression(),SymbolicRegressor()]:\n",
        "      #run model on all data\n",
        "      fit_model = model\n",
        "      fit_model.fit(x, y)\n",
        "      y_pred = fit_model.predict(x)\n",
        "      row_fit.append(metric(y_pred=y_pred, y=y))\n",
        "      #run model on train\n",
        "      real_model = model\n",
        "      real_model.fit(x_train, y_train)\n",
        "      y_pred_train = fit_model.predict(x_train)\n",
        "      row_train.append(metric(y_pred=y_pred_train, y=y_train))\n",
        "      #run model on test\n",
        "      y_pred_test = fit_model.predict(x_test)\n",
        "      row_test.append(metric(y_pred=y_pred_test, y=y_test))\n",
        "\n",
        "  # store results for this dataset\n",
        "  fit_performance.append(row_fit)\n",
        "  train_performance.append(row_train)\n",
        "  test_performance.append(row_test)\n",
        "\n",
        "  # recall the file name so we will use it later, making sure the order is not important\n",
        "  index.append(file_name)\n",
        "\n",
        "  # save all three datasets of the answers - this is not optimal but helps if something clashes\n",
        "  pd.DataFrame(data=fit_performance,\n",
        "                index=index,\n",
        "                columns=columns).to_csv(os.path.join(RESULTS_FOLDER_PATH, META_DATASET_FIT))\n",
        "  pd.DataFrame(data=train_performance,\n",
        "                index=index,\n",
        "                columns=columns).to_csv(os.path.join(RESULTS_FOLDER_PATH, META_DATASET_TRAIN))\n",
        "  pd.DataFrame(data=test_performance,\n",
        "                index=index,\n",
        "                columns=columns).to_csv(os.path.join(RESULTS_FOLDER_PATH, META_DATASET_TEST))"
      ],
      "metadata": {
        "colab": {
          "base_uri": "https://localhost:8080/"
        },
        "id": "V7U-05ecLgwc",
        "outputId": "40a105af-d0bd-4756-841a-7b4c7cc29cdd"
      },
      "execution_count": 55,
      "outputs": [
        {
          "output_type": "stream",
          "name": "stdout",
          "text": [
            "2012_Industry_Data_by_Industry_and_StatenoNa\n",
            "2012_Retail_Sales_by_Store_Type_within_Product_Category\n",
            "2016_all_counties_simp\n",
            "Big_Mac_Index_transposed\n",
            "Brent_Oil_Futures_Historical_DatanoNa\n",
            "BSE_30_ADANIPORTSnoNa\n",
            "BSE_30_ASIANPAINTnoNa\n",
            "BSE_30_AXISBANKnoNa\n",
            "BSE_30_BAJAJ-AUTOnoNa\n",
            "BSE_30_BHARTIARTLnoNa\n",
            "BSE_30_COALINDIAnoNa\n",
            "BSE_30_DRREDDYnoNa\n",
            "BSE_30_HDFCBANKnoNa\n",
            "BSE_30_HDFCnoNa\n",
            "BSE_30_HEROMOTOCOnoNa\n",
            "BSE_30_HINDUNILVRnoNa\n",
            "BSE_30_ICICIBANKnoNa\n",
            "BSE_30_INDUSINDBKnoNa\n",
            "BSE_30_INFYnoNa\n",
            "BSE_30_ITCnoNa\n",
            "BSE_30_KOTAKBANKnoNa\n",
            "BSE_30_LTnoNa\n",
            "BSE_30_M&MnoNa\n",
            "BSE_30_MARUTInoNa\n",
            "BSE_30_ONGCnoNa\n",
            "BSE_30_POWERGRIDnoNa\n",
            "BSE_30_RELIANCEnoNa\n",
            "BSE_30_SBINnoNa\n",
            "BSE_30_SUNPHARMAnoNa\n",
            "BSE_30_TATAMOTORSnoNa\n",
            "BSE_30_TATAMTRDVRnoNa\n",
            "BSE_30_TATASTEELnoNa\n",
            "BSE_30_TCSnoNa\n",
            "BSE_30_WIPROnoNa\n",
            "BSE_30_YESBANKnoNa\n",
            "crecimiento_economiconoNa\n",
            "Crude_Oil_WTI_Futures_Historical_DatanoNa\n",
            "crypto_BNB_USDnoNa\n",
            "crypto_Cardano_USDnoNa\n",
            "crypto_Dogecoin_USDnoNa\n",
            "crypto_Ethereum_USDnoNa\n",
            "crypto_Litecoin_USDnoNa\n",
            "crypto_Polkadot_USDnoNa\n",
            "crypto_TRON_USDnoNa\n",
            "crypto_XRP_USDnoNa\n",
            "Dow_Jones_Industrial_Average_Historical_DatanoNa\n",
            "ecb_fx_usd_quote_csv_1\n",
            "EF_GDP(constant2010USD)\n",
            "EUR_USD_Historical_DatanoNa\n",
            "exchange_ratenoNa\n",
            "Exchange_Rate_ReportnoNa\n",
            "FD__timeSeries\n",
            "GCFnoNa\n",
            "GENDER_EQUALITY_timeSeriesnoNa\n",
            "Gold-Au99_95\n",
            "Gold_Futures_Historical_DatanoNa\n",
            "gold_price_china\n",
            "indianEco\n",
            "loan_trainnoNa\n",
            "ltprojections\n",
            "median_london_prices\n",
            "phl-cityandmunicipallevelpovertyestimates-csv-1noNa\n",
            "stock_fundamental_data_nifty500\n",
            "UBER\n",
            "WFC\n",
            "WGI_csv_WGI_DatanoNa\n",
            "World_Commodity_Exporters_(WCED)_timeSeriesnoNa\n"
          ]
        }
      ]
    },
    {
      "cell_type": "code",
      "source": [
        "!zip -r ./results.zip ./results/\n",
        "files.download('./results.zip')"
      ],
      "metadata": {
        "colab": {
          "base_uri": "https://localhost:8080/",
          "height": 90
        },
        "id": "3-RjW2rYatDl",
        "outputId": "f6ade9c4-3d5f-4ad4-b019-03f0670a2eac"
      },
      "execution_count": 56,
      "outputs": [
        {
          "output_type": "stream",
          "name": "stdout",
          "text": [
            "  adding: results/ (stored 0%)\n",
            "  adding: results/meta_dataset_test.csv (deflated 61%)\n",
            "  adding: results/meta_dataset_train.csv (deflated 61%)\n",
            "  adding: results/meta_dataset_fit.csv (deflated 61%)\n"
          ]
        },
        {
          "output_type": "display_data",
          "data": {
            "text/plain": [
              "<IPython.core.display.Javascript object>"
            ],
            "application/javascript": [
              "\n",
              "    async function download(id, filename, size) {\n",
              "      if (!google.colab.kernel.accessAllowed) {\n",
              "        return;\n",
              "      }\n",
              "      const div = document.createElement('div');\n",
              "      const label = document.createElement('label');\n",
              "      label.textContent = `Downloading \"${filename}\": `;\n",
              "      div.appendChild(label);\n",
              "      const progress = document.createElement('progress');\n",
              "      progress.max = size;\n",
              "      div.appendChild(progress);\n",
              "      document.body.appendChild(div);\n",
              "\n",
              "      const buffers = [];\n",
              "      let downloaded = 0;\n",
              "\n",
              "      const channel = await google.colab.kernel.comms.open(id);\n",
              "      // Send a message to notify the kernel that we're ready.\n",
              "      channel.send({})\n",
              "\n",
              "      for await (const message of channel.messages) {\n",
              "        // Send a message to notify the kernel that we're ready.\n",
              "        channel.send({})\n",
              "        if (message.buffers) {\n",
              "          for (const buffer of message.buffers) {\n",
              "            buffers.push(buffer);\n",
              "            downloaded += buffer.byteLength;\n",
              "            progress.value = downloaded;\n",
              "          }\n",
              "        }\n",
              "      }\n",
              "      const blob = new Blob(buffers, {type: 'application/binary'});\n",
              "      const a = document.createElement('a');\n",
              "      a.href = window.URL.createObjectURL(blob);\n",
              "      a.download = filename;\n",
              "      div.appendChild(a);\n",
              "      a.click();\n",
              "      div.remove();\n",
              "    }\n",
              "  "
            ]
          },
          "metadata": {}
        },
        {
          "output_type": "display_data",
          "data": {
            "text/plain": [
              "<IPython.core.display.Javascript object>"
            ],
            "application/javascript": [
              "download(\"download_6d470db0-10dd-4896-adf4-5cbd78d05fd6\", \"results.zip\", 8226)"
            ]
          },
          "metadata": {}
        }
      ]
    }
  ]
}